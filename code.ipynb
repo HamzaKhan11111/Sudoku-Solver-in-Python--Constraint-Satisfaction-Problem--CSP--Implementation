{
 "cells": [
  {
   "cell_type": "code",
   "execution_count": 34,
   "metadata": {},
   "outputs": [],
   "source": [
    "import random\n",
    "import itertools"
   ]
  },
  {
   "cell_type": "code",
   "execution_count": 35,
   "metadata": {},
   "outputs": [],
   "source": [
    "import random\n",
    "\n",
    "def generateSudoku(sudoku,row,col):\n",
    "    if col==9:\n",
    "        if row==8:\n",
    "            return True\n",
    "        col=0\n",
    "        row=row+1\n",
    "    if sudoku[row][col]!=0:\n",
    "        if generateSudoku(sudoku,row,col+1)==True:\n",
    "            return True\n",
    "    else:\n",
    "        for i in random.sample(range(1, 10),9):\n",
    "            if i not in sudoku[row] and i not in [sudoku[x][col] for x in range(0,9)]:\n",
    "                subrow=(row//3)*3\n",
    "                subcol=(col//3)*3\n",
    "                valid=True\n",
    "                for y in range(0,3):\n",
    "                    for z in range(0,3):\n",
    "                        if i == sudoku[y+subrow][z+subcol]:\n",
    "                            valid=False\n",
    "                            break\n",
    "                    if not valid:\n",
    "                        break\n",
    "                if valid:\n",
    "                    sudoku[row][col]=i\n",
    "                    if generateSudoku(sudoku,row,col+1)==True:\n",
    "                        return True\n",
    "                    sudoku[row][col]=0\n",
    "        return False\n"
   ]
  },
  {
   "cell_type": "code",
   "execution_count": 36,
   "metadata": {},
   "outputs": [],
   "source": [
    "def genrerateInvalidSudoku():\n",
    "    sudoku=[]\n",
    "    for i in range(0,9):\n",
    "        sudoku.append([0 for x in range(0,9)])\n",
    "    generateSudoku(sudoku,0,0)\n",
    "    for i in range(0,3):\n",
    "        val=random.randint(1,9)\n",
    "        x=random.randint(0,8)\n",
    "        y=random.randint(0,8)\n",
    "        # print(\"x: \",x,\" y: \",y,\" val: \",val)\n",
    "        sudoku[x][y]=val\n",
    "    return sudoku"
   ]
  },
  {
   "cell_type": "code",
   "execution_count": 37,
   "metadata": {},
   "outputs": [],
   "source": [
    "sudoku=genrerateInvalidSudoku()"
   ]
  },
  {
   "cell_type": "code",
   "execution_count": 38,
   "metadata": {},
   "outputs": [
    {
     "data": {
      "text/plain": [
       "[[8, 3, 7, 6, 5, 2, 1, 4, 9],\n",
       " [2, 9, 9, 7, 3, 1, 8, 6, 5],\n",
       " [1, 5, 6, 4, 9, 8, 2, 7, 3],\n",
       " [9, 4, 5, 1, 2, 3, 6, 8, 7],\n",
       " [6, 2, 8, 9, 7, 4, 5, 3, 1],\n",
       " [3, 7, 9, 8, 6, 5, 9, 2, 4],\n",
       " [7, 1, 9, 2, 4, 6, 3, 5, 8],\n",
       " [5, 8, 2, 3, 1, 7, 4, 9, 6],\n",
       " [4, 6, 3, 5, 8, 9, 7, 1, 2]]"
      ]
     },
     "execution_count": 38,
     "metadata": {},
     "output_type": "execute_result"
    }
   ],
   "source": [
    "sudoku"
   ]
  },
  {
   "cell_type": "code",
   "execution_count": 39,
   "metadata": {},
   "outputs": [],
   "source": [
    "def checkRows(sudoku):\n",
    "    invalidRow=0\n",
    "    test=test=[x for x in range(1,10)]\n",
    "    for i in range(0,len(sudoku)):\n",
    "        if set(sudoku[i])!=set(test):\n",
    "            return i\n",
    "    return -1"
   ]
  },
  {
   "cell_type": "code",
   "execution_count": 40,
   "metadata": {},
   "outputs": [],
   "source": [
    "def checkColumns(sudoku):\n",
    "    invalidCol=0\n",
    "    test=[x for x in range(1,10)]\n",
    "    for i in range(0,9):\n",
    "        if set([sudoku[x][i] for x in range(0,9)])!=set(test):\n",
    "            return i\n",
    "    return -1"
   ]
  },
  {
   "cell_type": "code",
   "execution_count": 41,
   "metadata": {},
   "outputs": [],
   "source": [
    "def checkSubGrid(sudoku):\n",
    "    subgroup=0\n",
    "    sub_col=0\n",
    "    sub_row=0\n",
    "    for l in range(0,3):\n",
    "        for k in range(0,3):\n",
    "            dic={}\n",
    "            for i in range(sub_row,sub_row+3):\n",
    "                for j in range(sub_col,sub_col+3):\n",
    "                    if sudoku[i][j] in dic:\n",
    "                        return subgroup\n",
    "                    else:\n",
    "                        dic[sudoku[i][j]]=0\n",
    "            subgroup+=1\n",
    "            sub_col+=3\n",
    "        sub_col=0\n",
    "        sub_row+=3\n",
    "    return -1"
   ]
  },
  {
   "cell_type": "code",
   "execution_count": 42,
   "metadata": {},
   "outputs": [
    {
     "name": "stdout",
     "output_type": "stream",
     "text": [
      "1\n",
      "2\n",
      "0\n"
     ]
    }
   ],
   "source": [
    "print(checkRows(sudoku))\n",
    "print(checkColumns(sudoku))\n",
    "print(checkSubGrid(sudoku))"
   ]
  },
  {
   "cell_type": "code",
   "execution_count": 43,
   "metadata": {},
   "outputs": [],
   "source": [
    "def validEntry(sudoku,row,col):\n",
    "    for i in range(row,len(sudoku)):\n",
    "        test=[x for x in range(1,10)]\n",
    "\n",
    "        r=sudoku[i]\n",
    "        temp1=list(set(test)-set(r))\n",
    "        num_row_count=r.count(sudoku[i][col])\n",
    "\n",
    "        c=[sudoku[x][col] for x in range(0,9)]\n",
    "        num_col_count=c.count(sudoku[i][col])\n",
    "        temp2=list(set(test)-set(c))\n",
    "\n",
    "        row_sub=(i//3)*3\n",
    "        col_sub=(col//3)*3\n",
    "        lis=[]\n",
    "        for j in range(0,3):\n",
    "            for k in range(0,3):\n",
    "                lis.append(sudoku[j+row_sub][k+col_sub])\n",
    "        temp3=list(set(test)-set(lis))\n",
    "        num_sub_count=lis.count(sudoku[i][col])\n",
    "\n",
    "        final=list(set(temp1).intersection(set(temp2).intersection(set(temp3))))\n",
    "        if len(final)==0:\n",
    "            continue\n",
    "        if num_col_count==1 and num_row_count==1 and num_sub_count==1:\n",
    "            continue\n",
    "        sudoku[i][col]=final.pop()\n",
    "        return True\n",
    "    \n",
    "    print(\"Problem Unsolvable\")\n",
    "    return False\n"
   ]
  },
  {
   "cell_type": "code",
   "execution_count": 44,
   "metadata": {},
   "outputs": [],
   "source": [
    "def validataSuduko(sudoku):\n",
    "    correct=0\n",
    "    while True:\n",
    "        if checkRows(sudoku)==-1 and checkColumns(sudoku)==-1 and checkSubGrid(sudoku)==-1:\n",
    "            print(\"Total corrected entries: \",correct)\n",
    "            return sudoku\n",
    "        if validEntry(sudoku,checkRows(sudoku),checkColumns(sudoku)) == False:\n",
    "            return\n",
    "        correct+=1\n",
    "        "
   ]
  },
  {
   "cell_type": "code",
   "execution_count": 45,
   "metadata": {},
   "outputs": [
    {
     "name": "stdout",
     "output_type": "stream",
     "text": [
      "Total corrected entries:  3\n"
     ]
    },
    {
     "data": {
      "text/plain": [
       "[[8, 5, 2, 6, 9, 4, 1, 3, 7],\n",
       " [4, 9, 3, 1, 2, 7, 6, 5, 8],\n",
       " [7, 1, 6, 5, 3, 8, 9, 2, 4],\n",
       " [9, 3, 8, 7, 6, 2, 4, 1, 5],\n",
       " [6, 7, 4, 9, 5, 1, 3, 8, 2],\n",
       " [5, 2, 1, 8, 4, 3, 7, 6, 9],\n",
       " [2, 4, 5, 3, 1, 9, 8, 7, 6],\n",
       " [3, 6, 7, 4, 8, 5, 2, 9, 1],\n",
       " [1, 8, 9, 2, 7, 6, 5, 4, 3]]"
      ]
     },
     "execution_count": 45,
     "metadata": {},
     "output_type": "execute_result"
    }
   ],
   "source": [
    "sudoku=genrerateInvalidSudoku()\n",
    "validataSuduko(sudoku)"
   ]
  }
 ],
 "metadata": {
  "kernelspec": {
   "display_name": "Python 3",
   "language": "python",
   "name": "python3"
  },
  "language_info": {
   "codemirror_mode": {
    "name": "ipython",
    "version": 3
   },
   "file_extension": ".py",
   "mimetype": "text/x-python",
   "name": "python",
   "nbconvert_exporter": "python",
   "pygments_lexer": "ipython3",
   "version": "3.10.6"
  },
  "orig_nbformat": 4
 },
 "nbformat": 4,
 "nbformat_minor": 2
}
